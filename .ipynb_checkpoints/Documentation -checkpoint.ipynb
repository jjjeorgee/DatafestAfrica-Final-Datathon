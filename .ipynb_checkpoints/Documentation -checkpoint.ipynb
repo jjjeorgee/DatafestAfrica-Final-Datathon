{
 "cells": [
  {
   "cell_type": "markdown",
   "id": "feb9834e",
   "metadata": {},
   "source": [
    "# Documentation for Zentel Network Service Center Data Analysis\n",
    "\n",
    "## By Analytical Minds"
   ]
  },
  {
   "cell_type": "markdown",
   "id": "55424574",
   "metadata": {},
   "source": [
    "### Abstract"
   ]
  },
  {
   "cell_type": "markdown",
   "id": "fe5373c6",
   "metadata": {},
   "source": [
    " Performing basic analysis and creating an interactive dashboard on the Zentel Network service center data."
   ]
  },
  {
   "cell_type": "markdown",
   "id": "40e3ff62",
   "metadata": {},
   "source": [
    "### Wrangling\n",
    "\n",
    "This was done using Microsoft Excel, Python and Power Query.<br>\n",
    "\n",
    "#### Microsoft Excel\n",
    "- Used to convert the Service Data page from .xlxs to .csv for importation into jupyter notebooks using pandas\n",
    "- used to add the \"Unknown\" Fault key to the fault type table.\n",
    "\n",
    "#### Python\n",
    "- Used for assessing the dataset and checking for errors\n",
    "- Used to replace the spaces in the column headers with underscores to make cleaning and analysis easier\n",
    "- used to convert the ticket_open_time, ticket_resp_time and issue_res_time from object(string) to datetime\n",
    "- used to replace the null values in the Fault type column to \"Unknown\"\n",
    "\n",
    "#### Power Query\n",
    "- Removed unwanted Row IDs\n",
    "- Added a calender table\n",
    "- Created a new table for DAX measures\n",
    "- Created a new table \"resolution  duration\" which consists of the time difference between ticket response time and issue resolution time\n",
    "- Created a table \"response duration\" which consists of the difference between the ticket open time and ticket response time"
   ]
  },
  {
   "cell_type": "markdown",
   "id": "4fdabf74",
   "metadata": {},
   "source": [
    "###  Data Modelling\n",
    "This was entirely done using PowerBI"
   ]
  },
  {
   "cell_type": "markdown",
   "id": "cd07a14f",
   "metadata": {},
   "source": [
    "### Exploratory Data Analysis \n",
    "\n",
    "This was primarily done with PowerBI"
   ]
  },
  {
   "cell_type": "code",
   "execution_count": null,
   "id": "d6309176",
   "metadata": {},
   "outputs": [],
   "source": []
  }
 ],
 "metadata": {
  "kernelspec": {
   "display_name": "Python 3 (ipykernel)",
   "language": "python",
   "name": "python3"
  },
  "language_info": {
   "codemirror_mode": {
    "name": "ipython",
    "version": 3
   },
   "file_extension": ".py",
   "mimetype": "text/x-python",
   "name": "python",
   "nbconvert_exporter": "python",
   "pygments_lexer": "ipython3",
   "version": "3.9.12"
  },
  "toc": {
   "base_numbering": 1,
   "nav_menu": {},
   "number_sections": true,
   "sideBar": true,
   "skip_h1_title": false,
   "title_cell": "Table of Contents",
   "title_sidebar": "Contents",
   "toc_cell": false,
   "toc_position": {},
   "toc_section_display": true,
   "toc_window_display": false
  }
 },
 "nbformat": 4,
 "nbformat_minor": 5
}
