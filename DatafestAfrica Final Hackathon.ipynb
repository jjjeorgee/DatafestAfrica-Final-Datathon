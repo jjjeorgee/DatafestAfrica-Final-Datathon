{
 "cells": [
  {
   "cell_type": "markdown",
   "id": "5d138435",
   "metadata": {},
   "source": [
    "# Datafest final hackathon"
   ]
  },
  {
   "cell_type": "code",
   "execution_count": 2,
   "id": "86ccf6fd",
   "metadata": {},
   "outputs": [],
   "source": [
    "import pandas as pd"
   ]
  },
  {
   "cell_type": "markdown",
   "id": "e18af69d",
   "metadata": {},
   "source": [
    "## Wrangling"
   ]
  },
  {
   "cell_type": "markdown",
   "id": "09afacb2",
   "metadata": {},
   "source": [
    "### Assessing"
   ]
  },
  {
   "cell_type": "code",
   "execution_count": 4,
   "id": "f8885059",
   "metadata": {},
   "outputs": [],
   "source": [
    "df = pd.read_csv('Zentel Network Service Ticket Data.csv')"
   ]
  },
  {
   "cell_type": "code",
   "execution_count": 6,
   "id": "8ebc4045",
   "metadata": {
    "scrolled": true
   },
   "outputs": [
    {
     "name": "stdout",
     "output_type": "stream",
     "text": [
      "<class 'pandas.core.frame.DataFrame'>\n",
      "RangeIndex: 5998 entries, 0 to 5997\n",
      "Data columns (total 12 columns):\n",
      " #   Column             Non-Null Count  Dtype \n",
      "---  ------             --------------  ----- \n",
      " 0   Report ID          5998 non-null   object\n",
      " 1   Report Channel     5998 non-null   object\n",
      " 2   Customer Name      5998 non-null   object\n",
      " 3   State Key          5998 non-null   object\n",
      " 4   Ticket Open Time   5998 non-null   object\n",
      " 5   Ticket Resp Time   5998 non-null   object\n",
      " 6   Issue Res Time     5998 non-null   object\n",
      " 7   Fault Type         5472 non-null   object\n",
      " 8   Operator           5998 non-null   object\n",
      " 9   Ticket Close Time  5998 non-null   object\n",
      " 10  Ticket Status      5998 non-null   object\n",
      " 11  Business Status    5998 non-null   object\n",
      "dtypes: object(12)\n",
      "memory usage: 562.4+ KB\n"
     ]
    }
   ],
   "source": [
    "df.info()"
   ]
  },
  {
   "cell_type": "code",
   "execution_count": 13,
   "id": "278c703f",
   "metadata": {},
   "outputs": [
    {
     "data": {
      "text/html": [
       "<div>\n",
       "<style scoped>\n",
       "    .dataframe tbody tr th:only-of-type {\n",
       "        vertical-align: middle;\n",
       "    }\n",
       "\n",
       "    .dataframe tbody tr th {\n",
       "        vertical-align: top;\n",
       "    }\n",
       "\n",
       "    .dataframe thead th {\n",
       "        text-align: right;\n",
       "    }\n",
       "</style>\n",
       "<table border=\"1\" class=\"dataframe\">\n",
       "  <thead>\n",
       "    <tr style=\"text-align: right;\">\n",
       "      <th></th>\n",
       "      <th>report_id</th>\n",
       "      <th>report_channel</th>\n",
       "      <th>customer_name</th>\n",
       "      <th>state_key</th>\n",
       "      <th>ticket_open_time</th>\n",
       "      <th>ticket_resp_time</th>\n",
       "      <th>issue_res_time</th>\n",
       "      <th>fault_type</th>\n",
       "      <th>operator</th>\n",
       "      <th>ticket_close_time</th>\n",
       "      <th>ticket_status</th>\n",
       "      <th>business_status</th>\n",
       "    </tr>\n",
       "  </thead>\n",
       "  <tbody>\n",
       "    <tr>\n",
       "      <th>3499</th>\n",
       "      <td>AXA-20201202-4600-MAC</td>\n",
       "      <td>CH04</td>\n",
       "      <td>ShopLite</td>\n",
       "      <td>NGS035</td>\n",
       "      <td>2020/12/02 14:59:45</td>\n",
       "      <td>2020/12/02 15:00:04</td>\n",
       "      <td>2020/12/02 19:25:26</td>\n",
       "      <td>Customers End</td>\n",
       "      <td>Atiku</td>\n",
       "      <td>2020/12/03 01:00:56</td>\n",
       "      <td>Completed</td>\n",
       "      <td>Closed</td>\n",
       "    </tr>\n",
       "  </tbody>\n",
       "</table>\n",
       "</div>"
      ],
      "text/plain": [
       "                  report_id report_channel customer_name state_key  \\\n",
       "3499  AXA-20201202-4600-MAC           CH04      ShopLite    NGS035   \n",
       "\n",
       "         ticket_open_time     ticket_resp_time       issue_res_time  \\\n",
       "3499  2020/12/02 14:59:45  2020/12/02 15:00:04  2020/12/02 19:25:26   \n",
       "\n",
       "         fault_type operator     ticket_close_time ticket_status  \\\n",
       "3499  Customers End    Atiku   2020/12/03 01:00:56     Completed   \n",
       "\n",
       "     business_status  \n",
       "3499          Closed  "
      ]
     },
     "execution_count": 13,
     "metadata": {},
     "output_type": "execute_result"
    }
   ],
   "source": [
    "df_clean.sample()"
   ]
  },
  {
   "cell_type": "markdown",
   "id": "b53f262f",
   "metadata": {},
   "source": [
    "### Issues\n",
    "\n",
    "- wrong datatype\n",
    "- Null values\n",
    "- column headers having spaces instead of underscores"
   ]
  },
  {
   "cell_type": "code",
   "execution_count": 10,
   "id": "6a288b21",
   "metadata": {},
   "outputs": [],
   "source": [
    "# creating a copy\n",
    "df_clean = df.copy()"
   ]
  },
  {
   "cell_type": "code",
   "execution_count": 24,
   "id": "e9efbb26",
   "metadata": {},
   "outputs": [],
   "source": [
    "# converting from the wrong datatype to the right datatype\n",
    "df_clean['ticket_close_time'] = pd.to_datetime(df_clean['ticket_close_time'], errors='coerce')\n",
    "df_clean['ticket_open_time'] = pd.to_datetime(df_clean['ticket_open_time'], errors='coerce')\n",
    "df_clean['ticket_resp_time'] = pd.to_datetime(df_clean['ticket_resp_time'], errors='coerce')\n",
    "df_clean['issue_res_time'] = pd.to_datetime(df_clean['issue_res_time'], errors='coerce')"
   ]
  },
  {
   "cell_type": "code",
   "execution_count": 31,
   "id": "377acf80",
   "metadata": {},
   "outputs": [],
   "source": [
    "# dropping null values\n",
    "df_clean.dropna(subset=['ticket_close_time'], inplace=True)"
   ]
  },
  {
   "cell_type": "code",
   "execution_count": 14,
   "id": "13481ae5",
   "metadata": {},
   "outputs": [],
   "source": [
    "# replacing null values with unknown\n",
    "df_clean[\"fault_type\"].fillna(\"Unknown\", inplace = True)"
   ]
  },
  {
   "cell_type": "code",
   "execution_count": 11,
   "id": "074d5df6",
   "metadata": {},
   "outputs": [],
   "source": [
    "# converting headers from spaced to underscored\n",
    "df_clean.rename(columns=lambda x: x.strip().lower().replace(\" \", \"_\"), inplace=True)"
   ]
  },
  {
   "cell_type": "code",
   "execution_count": 30,
   "id": "1190bd2c",
   "metadata": {},
   "outputs": [],
   "source": [
    "# exporting csv\n",
    "df_clean.to_csv('zentel_clean.csv')"
   ]
  }
 ],
 "metadata": {
  "kernelspec": {
   "display_name": "Python 3 (ipykernel)",
   "language": "python",
   "name": "python3"
  },
  "language_info": {
   "codemirror_mode": {
    "name": "ipython",
    "version": 3
   },
   "file_extension": ".py",
   "mimetype": "text/x-python",
   "name": "python",
   "nbconvert_exporter": "python",
   "pygments_lexer": "ipython3",
   "version": "3.9.12"
  },
  "toc": {
   "base_numbering": 1,
   "nav_menu": {},
   "number_sections": true,
   "sideBar": true,
   "skip_h1_title": false,
   "title_cell": "Table of Contents",
   "title_sidebar": "Contents",
   "toc_cell": false,
   "toc_position": {},
   "toc_section_display": true,
   "toc_window_display": false
  }
 },
 "nbformat": 4,
 "nbformat_minor": 5
}
